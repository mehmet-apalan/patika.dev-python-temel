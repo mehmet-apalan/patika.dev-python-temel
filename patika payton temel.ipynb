{
 "cells": [
  {
   "cell_type": "markdown",
   "id": "b316f695",
   "metadata": {},
   "source": [
    "# PATİKA.DEV PYTHON TEMEL PROJESİ"
   ]
  },
  {
   "cell_type": "markdown",
   "id": "3f527f42",
   "metadata": {},
   "source": [
    "1- Bir listeyi düzleştiren (flatten) fonksiyon yazın. Elemanları birden çok katmanlı listelerden ([[3],2] gibi) oluşabileceği gibi, non-scalar verilerden de oluşabilir. Örnek olarak:\n",
    "\n",
    "*input:* [[1,'a',['cat'],2],[[[3]],'dog'],4,5]\n",
    "\n",
    "*output:* [1,'a','cat',2,3,'dog',4,5]"
   ]
  },
  {
   "cell_type": "code",
   "execution_count": 1,
   "id": "90456121",
   "metadata": {},
   "outputs": [],
   "source": [
    "def flatten(l):\n",
    "    lnew=[]\n",
    "    def loop(m):\n",
    "        for i in m:\n",
    "            if isinstance(i,list):\n",
    "                loop(i)\n",
    "            else:\n",
    "                lnew.append(i)\n",
    "    loop(l)\n",
    "    return lnew"
   ]
  },
  {
   "cell_type": "code",
   "execution_count": 2,
   "id": "81231200",
   "metadata": {},
   "outputs": [
    {
     "data": {
      "text/plain": [
       "[1, 'a', 'cat', 2, 3, 'dog', 4, 5]"
      ]
     },
     "execution_count": 2,
     "metadata": {},
     "output_type": "execute_result"
    }
   ],
   "source": [
    "flatten([[1,'a',['cat'],2],[[[3]],'dog'],4,5])"
   ]
  },
  {
   "cell_type": "markdown",
   "id": "e5123538",
   "metadata": {},
   "source": [
    "2- Verilen listenin içindeki elemanları tersine döndüren bir fonksiyon yazın. Eğer listenin içindeki elemanlar da liste içeriyorsa onların elemanlarını da tersine döndürün. Örnek olarak:\n",
    "\n",
    "*input:* [[1, 2], [3, 4], [5, 6, 7]]\n",
    "\n",
    "*output:* [[[7, 6, 5], [4, 3], [2, 1]]"
   ]
  },
  {
   "cell_type": "code",
   "execution_count": 3,
   "id": "fa72115b",
   "metadata": {},
   "outputs": [],
   "source": [
    "def reverse_func(l):\n",
    "    l=[[1,2],[3,4],[5,6,7]]\n",
    "    l.reverse()\n",
    "    for i in l:\n",
    "      i.reverse()\n",
    "    return l \n",
    "    "
   ]
  },
  {
   "cell_type": "code",
   "execution_count": 4,
   "id": "f6ffdc8a",
   "metadata": {},
   "outputs": [
    {
     "data": {
      "text/plain": [
       "[[7, 6, 5], [4, 3], [2, 1]]"
      ]
     },
     "execution_count": 4,
     "metadata": {},
     "output_type": "execute_result"
    }
   ],
   "source": [
    "reverse_func([[1, 2], [3, 4], [5, 6, 7]])"
   ]
  },
  {
   "cell_type": "code",
   "execution_count": null,
   "id": "d1b07b38",
   "metadata": {},
   "outputs": [],
   "source": []
  }
 ],
 "metadata": {
  "kernelspec": {
   "display_name": "Python 3 (ipykernel)",
   "language": "python",
   "name": "python3"
  },
  "language_info": {
   "codemirror_mode": {
    "name": "ipython",
    "version": 3
   },
   "file_extension": ".py",
   "mimetype": "text/x-python",
   "name": "python",
   "nbconvert_exporter": "python",
   "pygments_lexer": "ipython3",
   "version": "3.9.7"
  }
 },
 "nbformat": 4,
 "nbformat_minor": 5
}
